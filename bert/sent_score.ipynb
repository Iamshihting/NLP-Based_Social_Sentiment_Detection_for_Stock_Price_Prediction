{
 "cells": [
  {
   "cell_type": "code",
   "execution_count": 1,
   "metadata": {},
   "outputs": [],
   "source": [
    "import pandas as pd"
   ]
  },
  {
   "cell_type": "code",
   "execution_count": 2,
   "metadata": {},
   "outputs": [],
   "source": [
    "company_list = [\n",
    "    \"聯電\",\n",
    "    \"日月光\",\n",
    "    \"聯發科\",\n",
    "    \"台積電\",\n",
    "    \"台達電\"\n",
    "]"
   ]
  },
  {
   "cell_type": "code",
   "execution_count": 3,
   "metadata": {},
   "outputs": [],
   "source": [
    "def get_data(source, company):\n",
    "    source_dict = {\n",
    "        'news':'新聞已預測.xlsx',\n",
    "        'posts':'社群貼文已預測.xlsx',\n",
    "    }\n",
    "    source_df = pd.read_excel(rf'sent_score/origin_data/{source_dict[source]}',sheet_name=company)\n",
    "    df = source_df.copy()\n",
    "    if source == 'news':\n",
    "        df = df[['日期', '預測情緒標籤']]\n",
    "    else:\n",
    "        df = df[['時間', '預測情緒標籤']]\n",
    "        df.rename(columns={'時間':'日期'}, inplace=True)\n",
    "    df['預測情緒標籤'] = df['預測情緒標籤']-1\n",
    "    return df\n",
    "    \n",
    "    "
   ]
  },
  {
   "cell_type": "code",
   "execution_count": 4,
   "metadata": {},
   "outputs": [],
   "source": [
    "def sentimental_score(df, source):\n",
    "    labels = []\n",
    "\n",
    "    sum_label = df.groupby('日期').apply(lambda x: x.sum())\n",
    "    labels.append(sum_label['預測情緒標籤'].rename(f'{source}_sc_sum'))\n",
    "\n",
    "    mean_label = df.groupby('日期').apply(lambda x: round(x.mean(), 4))\n",
    "    labels.append(mean_label['預測情緒標籤'].rename(f'{source}_sc_mean'))\n",
    "\n",
    "    count_label = df.groupby('日期').apply(lambda x: x.count())\n",
    "    labels.append(count_label['預測情緒標籤'].rename(f'{source}_sc_count'))\n",
    "\n",
    "    labels_df = pd.concat(labels, axis=1)\n",
    "    \n",
    "    return labels_df['2022-01-01':'2022-12-31']"
   ]
  },
  {
   "cell_type": "code",
   "execution_count": 5,
   "metadata": {},
   "outputs": [],
   "source": [
    "writer = pd.ExcelWriter(r'sent_score\\sentimental_score.xlsx')\n",
    "for company in company_list:\n",
    "    news_df = get_data('news', company)\n",
    "    posts_df = get_data('posts', company)\n",
    "    social_df = pd.concat([news_df, posts_df]) \n",
    "\n",
    "    posts_score = sentimental_score(posts_df, 'post')\n",
    "    news_score = sentimental_score(news_df, 'news')\n",
    "    social_score = sentimental_score(social_df, 'social')\n",
    "\n",
    "    df = pd.concat([posts_score, news_score, social_score], axis=1).fillna(0)\n",
    "    df.to_excel(writer, index=True, sheet_name=company)\n",
    "    \n",
    "writer._save()\n"
   ]
  }
 ],
 "metadata": {
  "kernelspec": {
   "display_name": "senior_project",
   "language": "python",
   "name": "python3"
  },
  "language_info": {
   "codemirror_mode": {
    "name": "ipython",
    "version": 3
   },
   "file_extension": ".py",
   "mimetype": "text/x-python",
   "name": "python",
   "nbconvert_exporter": "python",
   "pygments_lexer": "ipython3",
   "version": "3.11.2"
  }
 },
 "nbformat": 4,
 "nbformat_minor": 2
}
